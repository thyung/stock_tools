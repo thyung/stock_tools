{
 "cells": [
  {
   "cell_type": "markdown",
   "id": "f2e5cdc8",
   "metadata": {},
   "source": [
    "### Predict near future maximum price"
   ]
  },
  {
   "cell_type": "markdown",
   "id": "9101ec77",
   "metadata": {},
   "source": [
    "When RSI $\\ge$ 70, the stock may attain a local maximum in the near future. \n",
    "This may be a good time to sell. However, one needs to decide the selling price. \n",
    "This article attempts to use historical data to predict this maximum price."
   ]
  },
  {
   "cell_type": "code",
   "execution_count": 1,
   "id": "f302aa44",
   "metadata": {},
   "outputs": [],
   "source": [
    "import yfinance as yf\n",
    "import pandas as pd\n",
    "import matplotlib.pyplot as plt\n",
    "import matplotlib.dates as mdates\n",
    "import numpy as np\n",
    "from ta.trend import MACD\n",
    "from ta.momentum import StochasticOscillator\n",
    "\n",
    "import torch\n",
    "import torch.nn as nn\n",
    "import torch.optim as optim\n"
   ]
  },
  {
   "cell_type": "code",
   "execution_count": 2,
   "id": "c28bd06e",
   "metadata": {},
   "outputs": [],
   "source": [
    "def calculate_rsi_sma(data, period=14):\n",
    "    delta = data.diff()\n",
    "    gain = (delta.where(delta > 0, 0)).rolling(window=period).mean()\n",
    "    loss = (-delta.where(delta < 0, 0)).rolling(window=period).mean()\n",
    "    rs = gain / loss\n",
    "    rsi = 100 - (100 / (1 + rs))\n",
    "    return rsi\n",
    "\n",
    "def smma(series, period):\n",
    "    smma = series.copy()\n",
    "    smma.iloc[:period] = series.iloc[:period].mean()  # seed with SMA\n",
    "    for i in range(period, len(series)):\n",
    "        smma.iloc[i] = ((smma.iloc[i - 1] * (period - 1)) + series.iloc[i]) / period\n",
    "    return smma\n",
    "\n",
    "def calculate_rsi_smma(data, period=14):\n",
    "    delta = data.diff()\n",
    "\n",
    "    gain = delta.where(delta > 0, 0.0)\n",
    "    loss = -delta.where(delta < 0, 0.0)\n",
    "\n",
    "    avg_gain = smma(gain, period)\n",
    "    avg_loss = smma(loss, period)\n",
    "\n",
    "    rs = avg_gain / avg_loss\n",
    "    rsi = 100 - (100 / (1 + rs))\n",
    "\n",
    "    return rsi\n",
    "\n",
    "def calculate_rsi_ema(data, period=14):\n",
    "    # Calculate price change\n",
    "    delta = data.diff()\n",
    "\n",
    "    # Separate gains and losses\n",
    "    gain = delta.clip(lower=0)\n",
    "    loss = -delta.clip(upper=0)\n",
    "\n",
    "    # Apply Exponential Moving Average\n",
    "    avg_gain = gain.ewm(span=period, adjust=False).mean()\n",
    "    avg_loss = loss.ewm(span=period, adjust=False).mean()\n",
    "\n",
    "    # Calculate Relative Strength (RS)\n",
    "    rs = avg_gain / avg_loss\n",
    "\n",
    "    # Calculate RSI\n",
    "    rsi = 100 - (100 / (1 + rs))\n",
    "    \n",
    "    return rsi\n",
    "\n",
    "def prepare_df(ticker, days=0, start_date='2024-09-01', end_date='2025-08-31', average_method='sma'):\n",
    "    '''\n",
    "    average_method: \n",
    "        'sma' for Simple Moving Average\n",
    "        'smma' for Smoothing Moving Average\n",
    "        'ema' for Exponential Moving Average\n",
    "    '''\n",
    "    if days > 0:\n",
    "        df = yf.download(ticker, period=f'{days}d', auto_adjust=True, progress=False)\n",
    "    else:\n",
    "        df = yf.download(ticker, start=start_date, end=end_date, auto_adjust=True, progress=False)\n",
    "    \n",
    "    # keep only the \"Open\", \"Close\" etc for plotly. also remove the unnecessary [] of df['Close'].values\n",
    "    df.columns = df.columns.droplevel(1)    \n",
    "\n",
    "    if average_method == 'sma':\n",
    "        df['RSI'] = calculate_rsi_sma(df['Close'])\n",
    "    elif average_method == 'smma':\n",
    "        df['RSI'] = calculate_rsi_smma(df['Close'])\n",
    "    elif average_method == 'ema':\n",
    "        df['RSI'] = calculate_rsi_ema(df['Close'])\n",
    "    else:\n",
    "        df['RSI'] = calculate_rsi_sma(df['Close'])\n",
    "\n",
    "    # add moving averages\n",
    "    df['MA20'] = df['Close'].rolling(window=20).mean()\n",
    "    df['MA5'] = df['Close'].rolling(window=5).mean()\n",
    "\n",
    "    # MACD\n",
    "    macd = MACD(close=df['Close'],\n",
    "                      window_slow=26,\n",
    "                      window_fast=12,\n",
    "                      window_sign=9)\n",
    "    df['MACD'] = macd.macd()\n",
    "    df['MACD_Signal'] = macd.macd_signal()\n",
    "    df['MACD_Diff'] = macd.macd_diff()\n",
    "\n",
    "    # stochastic\n",
    "    stoch = StochasticOscillator(high=df['High'],\n",
    "                                       close=df['Close'],\n",
    "                                       low=df['Low'],\n",
    "                                       window=14,\n",
    "                                       smooth_window=3)\n",
    "    df['Stoch'] = stoch.stoch()\n",
    "    df['Stoch_Signal'] = stoch.stoch_signal()\n",
    "\n",
    "    df['Volume_log'] = np.log1p(df['Volume'])\n",
    "    mean_volume_log = df['Volume_log'].mean()\n",
    "    std_volume_log = df['Volume_log'].std()\n",
    "    df['Volume_log_Norm'] = (df['Volume_log'] - mean_volume_log) / std_volume_log\n",
    "\n",
    "    return df, mean_volume_log, std_volume_log"
   ]
  },
  {
   "cell_type": "code",
   "execution_count": 3,
   "id": "460ce4b3",
   "metadata": {},
   "outputs": [],
   "source": [
    "SYMBOLS = ['AAPL', 'AMZN', 'GOOG', 'META', 'MSFT', 'NVDA', 'TSLA']\n",
    "dfs = {}\n",
    "mean_volume_logs = {}\n",
    "std_volume_logs = {}\n",
    "for symbol in SYMBOLS:\n",
    "    dfs[symbol], mean_volume_logs[symbol], std_volume_logs[symbol] = prepare_df(symbol, start_date='2022-09-01', end_date='2025-08-31', average_method='sma')"
   ]
  },
  {
   "cell_type": "code",
   "execution_count": 4,
   "id": "db857311",
   "metadata": {},
   "outputs": [],
   "source": [
    "TRADE_DAYS_PER_YEAR = 251\n",
    "LEFT_MIN = 21       # trade days per month\n",
    "LEFT_AVERAGE = 21\n",
    "LEFT_MAX = 5        # arbitrary take\n",
    "RIGHT_MAX = 5       # arbitrary take"
   ]
  },
  {
   "cell_type": "code",
   "execution_count": 5,
   "id": "c032d3a7",
   "metadata": {},
   "outputs": [],
   "source": [
    "def get_price_average(df, start_index, end_index):\n",
    "    return df.iloc[start_index:end_index]['Close'].mean()\n",
    "\n",
    "def get_price_min(df, start_index, end_index):\n",
    "    return df.iloc[start_index:end_index]['Close'].min()\n",
    "\n",
    "def get_price_max(df, start_index, end_index):\n",
    "    return df.iloc[start_index:end_index]['Close'].max()\n"
   ]
  },
  {
   "cell_type": "markdown",
   "id": "b8711b10",
   "metadata": {},
   "source": [
    "#### Extract data where RSI $\\ge$ 70\n",
    "Data include\n",
    "1. Today and yesterday Close Price.\n",
    "2. Recent minimum, average and maximum prices.\n",
    "3. Today and last few days RSI.\n",
    "4. Volume in normalized logarithm."
   ]
  },
  {
   "cell_type": "code",
   "execution_count": 6,
   "id": "17a8f6a8",
   "metadata": {},
   "outputs": [],
   "source": [
    "def extract_RSI70_data(df, printout=False):\n",
    "    # skip beginning until RSI < 70\n",
    "    for i_skip, row in df[max(LEFT_MIN, LEFT_AVERAGE, LEFT_MAX):].iterrows():   # skip enough data for calculate min, average, max\n",
    "        if row['RSI'] < 70:\n",
    "            break\n",
    "    \n",
    "    count = 0\n",
    "    consecutive_days = 0\n",
    "    price_div_max_sum = 0\n",
    "    price_next_div_max_sum = 0\n",
    "    price_div_min_sum = 0\n",
    "    price_next_div_min_sum = 0\n",
    "    price_div_average_sum = 0\n",
    "    price_next_div_average_sum = 0\n",
    "    data = []\n",
    "    inputs = []\n",
    "    outputs = []\n",
    "    if printout:\n",
    "        print('count, date, index, close, close_prev, price_min, price_average, price_max, rsi, rsi_prev, rsi_prev2, rsi_prev3, rsi_prev4')\n",
    "    for i, row in df[df.index.get_loc(i_skip):].iterrows(): \n",
    "        iloc_index = df.index.get_loc(i)\n",
    "        if row['RSI'] >= 70:\n",
    "            if consecutive_days == 0:\n",
    "                count += 1\n",
    "            consecutive_days += 1\n",
    "            \n",
    "            if consecutive_days == 1:\n",
    "                d = {}\n",
    "                d['Date'] = i.strftime('%Y-%m-%d')\n",
    "                d['Index'] = iloc_index\n",
    "                d['Close'] = row['Close']\n",
    "                d['Close_Prev'] = df.iloc[iloc_index-1]['Close']\n",
    "                d['Min'] = get_price_min(df, iloc_index - LEFT_MIN, iloc_index + 1)\n",
    "                d['Average'] = get_price_average(df, iloc_index - LEFT_AVERAGE, iloc_index + 1)\n",
    "                d['Max'] = get_price_max(df, iloc_index - LEFT_MAX, iloc_index + RIGHT_MAX + 1)\n",
    "                d['RSI'] = row['RSI']\n",
    "                d['RSI_Prev'] = df.iloc[iloc_index-1]['RSI']\n",
    "                d['RSI_Prev2'] = df.iloc[iloc_index-2]['RSI']\n",
    "                d['RSI_Prev3'] = df.iloc[iloc_index-3]['RSI']\n",
    "                d['RSI_Prev4'] = df.iloc[iloc_index-4]['RSI']\n",
    "                d['Volume_log_Norm'] = row['Volume_log_Norm']\n",
    "                data.append(d)\n",
    "\n",
    "                # printout may be used for speadsheet \n",
    "                if printout:\n",
    "                    print('{}, {}, {}'.format(count, i.strftime('%Y-%m-%d'), iloc_index), end='')\n",
    "                    print(f', {d['Close']:.4f}, {d['Close_Prev']:.4f}, {d['Min']:.4f}, {d['Average']:.4f}, {d['Max']:.4f}', end='')\n",
    "                    print(f', {d['RSI']:.4f}, {d['RSI_Prev']:.4f}, {d['RSI_Prev2']:.4f}, {d['RSI_Prev3']:.4f}, {d['RSI_Prev4']:.4f}')\n",
    "        else:\n",
    "            consecutive_days = 0\n",
    "    \n",
    "    return data"
   ]
  },
  {
   "cell_type": "markdown",
   "id": "043dbf7d",
   "metadata": {},
   "source": [
    "#### Prediction methods"
   ]
  },
  {
   "cell_type": "code",
   "execution_count": 7,
   "id": "416c64ba",
   "metadata": {},
   "outputs": [],
   "source": [
    "extracted_data = {}"
   ]
  },
  {
   "cell_type": "markdown",
   "id": "49bb612b",
   "metadata": {},
   "source": [
    "##### 1. Just a wild guess\n",
    "1. Use several historical instances of RSI just raised above 70. Calculate the average of price_max (near future max price) divde today Close Price, $\\overline{\\frac{price\\_max}{price}}$\n",
    "2. Multiple an adjust_factor (likely less than 1) to increase the chance to sell rather than overpriced.\n",
    "3. Multiple the step 2 value to today Close Price as a prediction of near future maximum price.\n",
    "\n",
    "$$predict\\_max\\_price = (1 + adjust\\_factor(\\overline{\\frac{price\\_max}{price}} - 1)) close\\_price$$\n"
   ]
  },
  {
   "cell_type": "code",
   "execution_count": 8,
   "id": "0a3011f7",
   "metadata": {},
   "outputs": [
    {
     "name": "stdout",
     "output_type": "stream",
     "text": [
      "count, date, index, close, close_prev, price_min, price_average, price_max, rsi, rsi_prev, rsi_prev2, rsi_prev3, rsi_prev4\n",
      "1, 2023-01-23, 97, 139.1476, 135.9527, 123.2813, 130.0504, 143.9006, 72.1826, 68.5368, 69.8494, 59.5291, 57.2136\n",
      "2, 2023-03-21, 137, 157.3047, 155.4480, 143.5079, 149.2441, 158.2627, 74.1946, 67.1708, 63.0147, 66.5820, 56.5534\n",
      "3, 2023-03-29, 143, 158.7762, 155.6949, 143.5079, 151.9259, 164.1093, 71.0679, 60.2487, 63.9399, 63.2535, 65.3697\n",
      "4, 2023-04-06, 149, 162.6180, 161.7291, 146.6584, 156.0733, 164.1093, 71.3906, 67.5543, 76.8707, 79.0419, 79.7770\n",
      "5, 2023-05-01, 165, 167.4868, 167.5757, 158.1145, 163.0759, 171.4175, 72.6198, 68.5950, 58.5499, 50.0000, 45.3592\n",
      "6, 2023-06-02, 188, 178.9531, 178.1026, 163.7340, 171.6732, 178.9630, 75.1201, 69.6300, 63.9256, 68.1963, 56.9075\n",
      "7, 2023-06-12, 194, 181.7618, 178.9630, 169.6668, 174.2672, 183.9573, 72.5861, 64.9794, 64.4654, 63.7240, 69.9220\n",
      "8, 2023-06-27, 204, 185.9847, 183.2255, 171.0810, 179.8167, 191.8295, 71.7661, 65.8852, 66.0326, 68.7671, 68.4241\n",
      "9, 2023-07-17, 217, 191.8492, 188.5857, 181.9200, 186.6279, 192.9470, 70.3169, 60.2454, 58.9666, 63.1986, 57.1830\n",
      "10, 2023-07-28, 226, 193.6689, 191.0877, 186.0044, 189.9077, 194.2821, 70.4187, 57.4097, 57.9165, 56.9018, 50.8606\n",
      "11, 2023-09-05, 252, 187.8599, 187.6223, 172.3122, 178.4125, 187.8599, 71.3937, 66.4474, 66.5354, 66.3589, 61.4224\n",
      "12, 2023-11-10, 300, 184.8351, 180.6406, 165.2712, 174.4056, 188.1173, 73.0924, 68.7377, 63.4943, 61.1401, 54.0689\n",
      "13, 2023-11-14, 302, 185.8664, 183.2486, 165.2712, 174.9984, 189.8427, 76.7436, 68.8934, 73.0924, 68.7377, 63.4943\n",
      "14, 2023-11-30, 313, 188.3553, 187.7802, 169.1135, 183.5535, 192.6391, 71.9279, 69.0502, 74.9441, 77.4639, 80.7297\n",
      "15, 2024-01-25, 350, 192.5399, 192.8671, 179.6589, 187.1217, 193.5414, 75.2678, 69.5089, 67.6798, 52.0872, 46.7731\n",
      "16, 2024-05-07, 421, 181.0995, 180.4144, 163.8235, 170.3314, 186.3460, 71.6087, 68.1270, 64.9930, 43.9643, 39.3467\n",
      "17, 2024-05-31, 438, 191.1382, 190.1837, 168.0929, 185.1316, 195.7513, 72.8402, 67.0416, 68.3234, 68.3822, 69.3583\n",
      "18, 2024-06-11, 445, 205.9520, 192.0031, 181.9914, 190.5755, 215.4169, 70.5213, 54.4558, 66.9238, 62.6362, 67.9930\n",
      "19, 2024-06-27, 456, 212.8618, 212.0167, 188.8913, 202.1062, 225.0310, 70.0122, 67.5343, 65.6929, 65.2409, 66.0691\n",
      "20, 2024-07-01, 458, 215.4965, 209.4019, 190.1837, 204.2343, 227.3575, 72.5262, 63.7053, 70.0122, 67.5343, 65.6929\n",
      "21, 2024-07-10, 464, 231.6326, 227.3575, 192.0031, 213.0634, 233.4620, 73.8089, 66.0862, 68.8561, 64.7849, 61.3672\n",
      "22, 2024-08-23, 496, 225.7892, 223.4899, 206.0315, 218.3984, 228.7255, 84.0348, 57.1500, 62.1722, 56.2210, 59.1047\n",
      "23, 2024-11-26, 562, 234.2285, 232.0462, 220.9815, 226.6856, 242.1504, 74.2157, 69.7064, 67.6462, 63.0045, 56.6690\n",
      "24, 2024-11-29, 564, 236.4905, 234.0990, 220.9815, 226.9439, 242.1803, 72.0732, 68.0243, 74.2157, 69.7064, 67.6462\n",
      "25, 2025-02-24, 620, 246.4966, 244.9504, 221.9919, 235.3183, 246.4966, 80.2313, 62.7662, 60.6992, 57.1209, 57.8475\n",
      "26, 2025-02-28, 624, 241.2495, 236.7206, 226.8248, 237.7208, 246.4966, 70.7282, 56.0352, 62.1163, 76.5852, 80.2313\n",
      "27, 2025-04-02, 647, 223.3433, 222.6450, 209.1680, 221.5400, 223.3433, 70.0423, 57.3841, 51.4381, 39.8646, 35.6144\n",
      "28, 2025-04-29, 665, 210.6943, 209.6269, 171.9990, 201.8872, 212.7991, 74.3076, 66.3400, 61.1383, 52.4044, 42.2623\n",
      "29, 2025-05-01, 667, 212.7991, 211.9811, 171.9990, 201.2429, 212.7991, 74.3410, 62.4886, 74.3076, 66.3400, 61.1383\n",
      "30, 2025-07-02, 709, 212.1992, 207.5844, 195.4182, 201.2897, 213.3079, 74.1855, 59.3602, 57.1319, 44.1946, 50.6686\n",
      "31, 2025-07-18, 720, 210.9406, 209.7819, 195.4182, 206.1933, 214.1570, 70.0715, 68.7292, 67.5510, 67.8268, 64.0047\n",
      "32, 2025-08-13, 738, 233.3300, 229.6500, 202.1506, 213.9982, 233.3300, 70.7220, 67.6827, 65.3958, 69.9173, 62.8896\n",
      "33, 2025-08-18, 741, 230.8900, 231.5900, 202.1506, 217.0293, 233.3300, 71.0472, 68.0515, 69.8429, 70.7220, 67.6827\n",
      "34, 2025-08-21, 744, 224.9000, 226.0100, 202.1506, 219.0353, 232.7800, 75.6832, 69.3076, 74.0081, 71.0472, 68.0515\n"
     ]
    }
   ],
   "source": [
    "extracted_data['AAPL'] = extract_RSI70_data(dfs['AAPL'], printout=True)"
   ]
  },
  {
   "cell_type": "code",
   "execution_count": 9,
   "id": "d28c0485",
   "metadata": {},
   "outputs": [],
   "source": [
    "def predict_max_price(data, num_sample, adjust_factor=0.5):\n",
    "    hit = 0\n",
    "    miss = 0\n",
    "    predict_div_max_array = []\n",
    "    for i, d in enumerate(data):\n",
    "        if i < num_sample:\n",
    "            d['Predict1'] = np.nan\n",
    "            continue\n",
    "        sum = 0\n",
    "        for j in range(num_sample):\n",
    "            sum += data[i-j-1]['Max'] / data[i-j-1]['Close']\n",
    "        max_div_price_average = sum / num_sample\n",
    "        d['Predict1'] = d['Close'] * (1 + adjust_factor * (max_div_price_average - 1))\n",
    "        if d['Predict1'] < d['Max']:\n",
    "            hit += 1\n",
    "            predict_div_max_array.append(d['Predict1'] / d['Max'])\n",
    "        else:\n",
    "            miss += 1\n",
    "    return hit / (hit + miss), np.array(predict_div_max_array).mean()"
   ]
  },
  {
   "cell_type": "code",
   "execution_count": 10,
   "id": "6f810b51",
   "metadata": {},
   "outputs": [
    {
     "data": {
      "text/plain": [
       "(0.6206896551724138, np.float64(0.9826925643312815))"
      ]
     },
     "execution_count": 10,
     "metadata": {},
     "output_type": "execute_result"
    }
   ],
   "source": [
    "hit_rate, predict_div_max_array_mean = predict_max_price(extracted_data['AAPL'], 5, adjust_factor=0.5)\n",
    "hit_rate, predict_div_max_array_mean\n"
   ]
  },
  {
   "cell_type": "code",
   "execution_count": 11,
   "id": "7e05f919",
   "metadata": {},
   "outputs": [
    {
     "name": "stdout",
     "output_type": "stream",
     "text": [
      "AAPL, hit_rate:0.6207, predict/max:0.9827\n",
      "AMZN, hit_rate:0.6552, predict/max:0.9816\n",
      "GOOG, hit_rate:0.6000, predict/max:0.9799\n",
      "META, hit_rate:0.7059, predict/max:0.9764\n",
      "MSFT, hit_rate:0.6944, predict/max:0.9853\n",
      "NVDA, hit_rate:0.6000, predict/max:0.9489\n",
      "TSLA, hit_rate:0.4118, predict/max:0.9143\n"
     ]
    }
   ],
   "source": [
    "for s in SYMBOLS:\n",
    "    extracted_data[s] = extract_RSI70_data(dfs[s], printout=False)\n",
    "    hit_rate, predict_div_max_array_mean = predict_max_price(extracted_data[s], 5, adjust_factor=0.5)\n",
    "    print(f'{s}, hit_rate:{hit_rate:.4f}, predict/max:{predict_div_max_array_mean:.4f}')"
   ]
  },
  {
   "cell_type": "markdown",
   "id": "b3ca6f9a",
   "metadata": {},
   "source": [
    "##### 2. Neural network\n",
    "1. Believe that each stock has its own characteristic. Therefore, the neural network is trained per stock.\n",
    "2. For every instance of RSI $\\ge$ 70, the extract data and near future max price are used as input and output to train the network.\n",
    "3. Understand that the train data is insufficient. Nevertheless, give it a try."
   ]
  },
  {
   "cell_type": "code",
   "execution_count": 12,
   "id": "daa1cca7",
   "metadata": {},
   "outputs": [],
   "source": [
    "models = {}"
   ]
  },
  {
   "cell_type": "code",
   "execution_count": 13,
   "id": "5733ded4",
   "metadata": {},
   "outputs": [],
   "source": [
    "class SimpleNet(nn.Module):\n",
    "    def __init__(self, input_size):\n",
    "        super(SimpleNet, self).__init__()\n",
    "        self.net = nn.Sequential(\n",
    "            nn.Linear(input_size, 32),\n",
    "            nn.ReLU(),\n",
    "            nn.Linear(32, 16),\n",
    "            nn.ReLU(),\n",
    "            nn.Linear(16, 1),\n",
    "            nn.Sigmoid()  # to keep output between 0 and 1\n",
    "        )\n",
    "    \n",
    "    def forward(self, x):\n",
    "        return self.net(x) * 2  # scale output to [0, 2]\n"
   ]
  },
  {
   "cell_type": "markdown",
   "id": "2e10b93f",
   "metadata": {},
   "source": [
    "Train"
   ]
  },
  {
   "cell_type": "code",
   "execution_count": 14,
   "id": "6167af53",
   "metadata": {},
   "outputs": [],
   "source": [
    "def train_model(model, inputs, outputs, epochs=100, loss_function=None, printout=False):\n",
    "    inputs = torch.tensor(inputs, dtype=torch.float32)\n",
    "    targets = torch.tensor(outputs, dtype=torch.float32)\n",
    "\n",
    "    if loss_function is None:\n",
    "        criterion = nn.MSELoss()\n",
    "    else:\n",
    "        criterion = loss_function\n",
    "    optimizer = optim.Adam(model.parameters(), lr=0.001)\n",
    "\n",
    "    for epoch in range(epochs):\n",
    "        model.train()\n",
    "        optimizer.zero_grad()\n",
    "        outputs = model(inputs)\n",
    "        loss = criterion(outputs, targets)\n",
    "        loss.backward()\n",
    "        optimizer.step()\n",
    "\n",
    "        if (epoch+1) % 10 == 0:\n",
    "            if printout:\n",
    "                print(f\"Epoch {epoch+1}, Loss: {loss.item():.4f}\")"
   ]
  },
  {
   "cell_type": "code",
   "execution_count": 15,
   "id": "afe4ccab",
   "metadata": {},
   "outputs": [],
   "source": [
    "class AsymmetricMSELoss(nn.Module):\n",
    "    def __init__(self, alpha=2.0):  # alpha > 1 means more penalty on over-prediction\n",
    "        super().__init__()\n",
    "        self.alpha = alpha\n",
    "\n",
    "    def forward(self, y_pred, y_true):\n",
    "        diff = y_pred - y_true\n",
    "        loss = torch.where(\n",
    "            diff > 0,\n",
    "            self.alpha * diff ** 2,  # over-prediction penalty\n",
    "            diff ** 2                # under-prediction penalty\n",
    "        )\n",
    "        return loss.mean()\n",
    "\n",
    "# Example usage:\n",
    "# criterion = AsymmetricMSELoss(alpha=3.0)  # penalize over-prediction 3x more\n",
    "\n",
    "# y_true = torch.tensor([10.0, 12.0, 15.0])\n",
    "# y_pred = torch.tensor([11.0, 10.0, 17.0])\n",
    "\n",
    "# loss = criterion(y_pred, y_true)\n",
    "# print(loss.item())\n"
   ]
  },
  {
   "cell_type": "markdown",
   "id": "c228ddb9",
   "metadata": {},
   "source": [
    "Evaluate"
   ]
  },
  {
   "cell_type": "code",
   "execution_count": 16,
   "id": "e66e14fb",
   "metadata": {},
   "outputs": [],
   "source": [
    "def evaluate_model(model, inputs):\n",
    "    model.eval()\n",
    "    with torch.no_grad():\n",
    "        sample_input = torch.tensor(inputs, dtype=torch.float32)  # shape (1, N)\n",
    "        predictions = model(sample_input)\n",
    "        # print(predictions)\n",
    "    return predictions"
   ]
  },
  {
   "cell_type": "markdown",
   "id": "6ca8e517",
   "metadata": {},
   "source": [
    "Verify"
   ]
  },
  {
   "cell_type": "code",
   "execution_count": 17,
   "id": "6579cb51",
   "metadata": {},
   "outputs": [],
   "source": [
    "def verify_predicts(tune_result, predictions, factor, format='key_value'):\n",
    "    if format == 'cvs':\n",
    "        print('date, pred, pred_price, max, close, max/pred_price, pred_price*factor')\n",
    "    for i, p in enumerate(predictions):\n",
    "        pred_price = p.item() * tune_result[i]['Close']\n",
    "        if format == 'key_value':\n",
    "            print('date={}, pred={:.4f}, pred_price={:.2f}, max={:.2f}, close={:.2f}, max/pred_price={:.4f}, pred_price*factor={:.2f}'.format(\n",
    "                tune_result[i]['Date'], \n",
    "                p.item(), \n",
    "                pred_price,\n",
    "                tune_result[i]['Max'],\n",
    "                tune_result[i]['Close'],\n",
    "                tune_result[i]['Max'] / pred_price,\n",
    "                pred_price * factor))\n",
    "        elif format == 'cvs':\n",
    "            print('{}, {:.4f}, {:.2f}, {:.2f}, {:.2f}, {:.4f}, {:.2f}'.format(\n",
    "                tune_result[i]['Date'],\n",
    "                p.item(),\n",
    "                pred_price,\n",
    "                tune_result[i]['Max'],\n",
    "                tune_result[i]['Close'],\n",
    "                tune_result[i]['Max'] / pred_price,\n",
    "                pred_price * factor))\n"
   ]
  },
  {
   "cell_type": "markdown",
   "id": "7c74ac63",
   "metadata": {},
   "source": [
    "Convert data to inputs outputs format"
   ]
  },
  {
   "cell_type": "code",
   "execution_count": 18,
   "id": "c479664b",
   "metadata": {},
   "outputs": [],
   "source": [
    "def convert_data_to_inputs_outputs_with_max_look_back(data, num_max_look_back=4, num_rsi=5):\n",
    "    inputs = []\n",
    "    outputs = []\n",
    "    max_look_back_price = [0] * num_max_look_back\n",
    "    max_look_back_index = [0] * num_max_look_back\n",
    "    max_look_back_slope = [0] * num_max_look_back\n",
    "    for i, d in enumerate(data):\n",
    "        if i >= num_max_look_back:\n",
    "            for j in range(num_max_look_back - 1):\n",
    "                max_look_back_slope[j] = ((max_look_back_price[j+1] - max_look_back_price[j]) / d['Close']) / \\\n",
    "                    ((max_look_back_index[j+1] - max_look_back_index[j]) / TRADE_DAYS_PER_YEAR)\n",
    "            max_look_back_slope[num_max_look_back - 1] = ((d['Close'] - max_look_back_price[num_max_look_back - 1]) / d['Close']) / \\\n",
    "                ((d['Index'] - max_look_back_index[num_max_look_back - 1]) / TRADE_DAYS_PER_YEAR)\n",
    "            rsis = []\n",
    "            if num_rsi >= 1:\n",
    "                rsis.append(d['RSI']/100)\n",
    "            if num_rsi >= 2:\n",
    "                rsis.append(d['RSI_Prev']/100)\n",
    "            if num_rsi >= 3:\n",
    "                rsis.append(d['RSI_Prev2']/100)\n",
    "            if num_rsi >= 4:\n",
    "                rsis.append(d['RSI_Prev3']/100)\n",
    "            if num_rsi >= 5:\n",
    "                rsis.append(d['RSI_Prev4']/100)\n",
    "\n",
    "            inputs.append([d['Min']/d['Close'], \n",
    "                        d['Average']/d['Close'],\n",
    "                        d['Volume_log_Norm']] + \n",
    "                        rsis + \n",
    "                        max_look_back_slope)\n",
    "            outputs.append([d['Max']/d['Close']])\n",
    "\n",
    "        max_look_back_price.pop(0)\n",
    "        max_look_back_price.append(d['Max'])\n",
    "        max_look_back_index.pop(0)\n",
    "        max_look_back_index.append(d['Index'])\n",
    "\n",
    "    return inputs, outputs"
   ]
  },
  {
   "cell_type": "code",
   "execution_count": 19,
   "id": "6593d2fb",
   "metadata": {},
   "outputs": [
    {
     "name": "stdout",
     "output_type": "stream",
     "text": [
      "Epoch 10, Loss: 0.0009\n",
      "Epoch 20, Loss: 0.0005\n",
      "Epoch 30, Loss: 0.0003\n",
      "Epoch 40, Loss: 0.0001\n",
      "Epoch 50, Loss: 0.0001\n",
      "Epoch 60, Loss: 0.0001\n",
      "Epoch 70, Loss: 0.0001\n",
      "Epoch 80, Loss: 0.0000\n",
      "Epoch 90, Loss: 0.0000\n",
      "Epoch 100, Loss: 0.0000\n",
      "date=2025-07-02, pred=1.0187, pred_price=216.17, max=213.31, close=212.20, max/pred_price=0.9868, pred_price*factor=211.85\n",
      "date=2025-07-18, pred=1.0056, pred_price=212.12, max=214.16, close=210.94, max/pred_price=1.0096, pred_price*factor=207.87\n",
      "date=2025-08-13, pred=1.0163, pred_price=237.14, max=233.33, close=233.33, max/pred_price=0.9839, pred_price*factor=232.39\n",
      "date=2025-08-18, pred=1.0208, pred_price=235.69, max=233.33, close=230.89, max/pred_price=0.9900, pred_price*factor=230.98\n",
      "date=2025-08-21, pred=1.0214, pred_price=229.71, max=232.78, close=224.90, max/pred_price=1.0133, pred_price*factor=225.12\n"
     ]
    }
   ],
   "source": [
    "NUM_BASIC_INPUTS = 3\n",
    "NUM_MAX_LOOK_BACK = 4\n",
    "NUM_RSI = 5\n",
    "NUM_RESERVE_TEST = 5\n",
    "PREDICT_FACTOR = 0.98\n",
    "\n",
    "models['AAPL'] = SimpleNet(NUM_BASIC_INPUTS + NUM_MAX_LOOK_BACK + NUM_RSI)\n",
    "# extracted_data['AAPL'] = extract_RSI70_data(dfs['AAPL'])  # already extracted \n",
    "inputs, outputs = convert_data_to_inputs_outputs_with_max_look_back(extracted_data['AAPL'], NUM_MAX_LOOK_BACK, NUM_RSI)\n",
    "train_model(models['AAPL'], inputs[:-NUM_RESERVE_TEST], outputs[:-NUM_RESERVE_TEST], loss_function=AsymmetricMSELoss(alpha=2.0), printout=True)   # train without last NUM_RESERVE_TEST data\n",
    "predictions = evaluate_model(models['AAPL'], inputs[-NUM_RESERVE_TEST:])   # evaluate last NUM_RESERVE_TEST data\n",
    "verify_predicts(extracted_data['AAPL'][-NUM_RESERVE_TEST:], predictions, PREDICT_FACTOR)"
   ]
  },
  {
   "cell_type": "code",
   "execution_count": 20,
   "id": "ed798761",
   "metadata": {},
   "outputs": [
    {
     "name": "stdout",
     "output_type": "stream",
     "text": [
      "date, pred, pred_price, max, close, max/pred_price, pred_price*factor\n",
      "2025-07-02, 1.0187, 216.17, 213.31, 212.20, 0.9868, 211.85\n",
      "2025-07-18, 1.0056, 212.12, 214.16, 210.94, 1.0096, 207.87\n",
      "2025-08-13, 1.0163, 237.14, 233.33, 233.33, 0.9839, 232.39\n",
      "2025-08-18, 1.0208, 235.69, 233.33, 230.89, 0.9900, 230.98\n",
      "2025-08-21, 1.0214, 229.71, 232.78, 224.90, 1.0133, 225.12\n"
     ]
    }
   ],
   "source": [
    "verify_predicts(extracted_data['AAPL'][-NUM_RESERVE_TEST:], predictions, PREDICT_FACTOR, format='cvs')"
   ]
  },
  {
   "cell_type": "markdown",
   "id": "ff646974",
   "metadata": {},
   "source": [
    "Train and evaluate for all SYMBOLS. evaluate_model() will evaluate all data while only the last NUM_RESERVE_TEST are unseen in training.\n",
    "\n",
    "Store predicted maximum price to ```extracted_data[ticker][i]['Predict2']```."
   ]
  },
  {
   "cell_type": "code",
   "execution_count": 21,
   "id": "83a2501f",
   "metadata": {},
   "outputs": [
    {
     "name": "stdout",
     "output_type": "stream",
     "text": [
      "AAPL\n",
      "date, pred, pred_price, max, close, max/pred_price, pred_price*factor\n",
      "2023-05-01, 1.0020, 167.83, 171.42, 167.49, 1.0214, 164.47\n",
      "2023-06-02, 1.0176, 182.11, 178.96, 178.95, 0.9827, 178.47\n",
      "2023-06-12, 1.0034, 182.38, 183.96, 181.76, 1.0086, 178.74\n",
      "2023-06-27, 1.0125, 188.31, 191.83, 185.98, 1.0187, 184.55\n",
      "2023-07-17, 1.0038, 192.57, 192.95, 191.85, 1.0020, 188.72\n",
      "2023-07-28, 1.0068, 194.98, 194.28, 193.67, 0.9964, 191.08\n",
      "2023-09-05, 1.0101, 189.75, 187.86, 187.86, 0.9900, 185.96\n",
      "2023-11-10, 1.0087, 186.45, 188.12, 184.84, 1.0090, 182.72\n",
      "2023-11-14, 1.0203, 189.65, 189.84, 185.87, 1.0010, 185.86\n",
      "2023-11-30, 1.0039, 189.08, 192.64, 188.36, 1.0188, 185.30\n",
      "2024-01-25, 1.0046, 193.43, 193.54, 192.54, 1.0006, 189.56\n",
      "2024-05-07, 1.0071, 182.38, 186.35, 181.10, 1.0217, 178.74\n",
      "2024-05-31, 1.0083, 192.73, 195.75, 191.14, 1.0157, 188.87\n",
      "2024-06-11, 1.0437, 214.96, 215.42, 205.95, 1.0021, 210.66\n",
      "2024-06-27, 1.0286, 218.95, 225.03, 212.86, 1.0278, 214.57\n",
      "2024-07-01, 1.0593, 228.28, 227.36, 215.50, 0.9960, 223.71\n",
      "2024-07-10, 1.0273, 237.95, 233.46, 231.63, 0.9811, 233.19\n",
      "2024-08-23, 1.0092, 227.87, 228.73, 225.79, 1.0038, 223.31\n",
      "2024-11-26, 1.0100, 236.57, 242.15, 234.23, 1.0236, 231.84\n",
      "2024-11-29, 1.0229, 241.90, 242.18, 236.49, 1.0012, 237.06\n",
      "2025-02-24, 1.0031, 247.25, 246.50, 246.50, 0.9969, 242.31\n",
      "2025-02-28, 1.0240, 247.05, 246.50, 241.25, 0.9978, 242.11\n",
      "2025-04-02, 1.0027, 223.95, 223.34, 223.34, 0.9973, 219.47\n",
      "2025-04-29, 1.0091, 212.62, 212.80, 210.69, 1.0008, 208.37\n",
      "2025-05-01, 1.0071, 214.31, 212.80, 212.80, 0.9929, 210.03\n",
      "2025-07-02, 0.9906, 210.20, 213.31, 212.20, 1.0148, 206.00\n",
      "2025-07-18, 1.0055, 212.11, 214.16, 210.94, 1.0097, 207.87\n",
      "2025-08-13, 0.9999, 233.31, 233.33, 233.33, 1.0001, 228.64\n",
      "2025-08-18, 1.0047, 231.98, 233.33, 230.89, 1.0058, 227.34\n",
      "2025-08-21, 1.0361, 233.01, 232.78, 224.90, 0.9990, 228.35\n",
      "AMZN\n",
      "date, pred, pred_price, max, close, max/pred_price, pred_price*factor\n",
      "2023-05-18, 0.9982, 117.93, 118.15, 118.15, 1.0018, 115.57\n",
      "2023-06-01, 1.0307, 126.54, 126.61, 122.77, 1.0005, 124.01\n",
      "2023-06-15, 1.0200, 129.65, 130.15, 127.11, 1.0038, 127.06\n",
      "2023-09-14, 1.0083, 145.92, 144.85, 144.72, 0.9927, 143.00\n",
      "2023-11-09, 1.0288, 144.65, 145.80, 140.60, 1.0080, 141.76\n",
      "2023-11-14, 1.0098, 147.23, 146.13, 145.80, 0.9925, 144.29\n",
      "2023-12-27, 1.0144, 155.55, 153.84, 153.34, 0.9890, 152.43\n",
      "2024-01-25, 1.0054, 158.60, 161.26, 157.75, 1.0167, 155.43\n",
      "2024-02-02, 1.0121, 173.88, 174.45, 171.81, 1.0033, 170.41\n",
      "2024-04-01, 1.0219, 184.93, 185.19, 180.97, 1.0014, 181.23\n",
      "2024-04-05, 1.0130, 187.48, 189.05, 185.07, 1.0084, 183.73\n",
      "2024-06-21, 1.0258, 193.96, 197.85, 189.08, 1.0201, 190.08\n",
      "2024-06-26, 1.0188, 197.24, 200.00, 193.61, 1.0140, 193.30\n",
      "2024-07-05, 1.0239, 204.79, 200.00, 200.00, 0.9766, 200.69\n",
      "2024-07-10, 1.0219, 204.16, 200.00, 199.79, 0.9796, 200.07\n",
      "2024-08-23, 1.0189, 180.38, 180.11, 177.04, 0.9985, 176.77\n",
      "2024-09-23, 0.9994, 193.76, 193.96, 193.88, 1.0010, 189.89\n",
      "2024-11-06, 0.9955, 206.15, 214.10, 207.09, 1.0386, 202.03\n",
      "2024-11-12, 1.0208, 213.25, 214.10, 208.91, 1.0040, 208.98\n",
      "2024-12-06, 1.0060, 228.40, 230.26, 227.03, 1.0081, 223.84\n",
      "2025-01-29, 1.0267, 243.41, 242.06, 237.07, 0.9945, 238.54\n",
      "2025-01-31, 1.0312, 245.10, 242.06, 237.68, 0.9876, 240.20\n",
      "2025-02-06, 1.0157, 242.57, 242.06, 238.83, 0.9979, 237.72\n",
      "2025-05-09, 1.0233, 197.56, 211.37, 193.06, 1.0699, 193.61\n",
      "2025-05-20, 1.0265, 209.47, 211.37, 204.07, 1.0091, 205.28\n",
      "2025-05-27, 1.0212, 210.39, 206.65, 206.02, 0.9822, 206.19\n",
      "2025-06-10, 0.9919, 215.84, 217.61, 217.61, 1.0082, 211.53\n",
      "2025-07-11, 1.0011, 225.26, 226.35, 225.02, 1.0048, 220.76\n",
      "2025-07-28, 0.9992, 232.61, 234.11, 232.79, 1.0064, 227.96\n",
      "2025-08-22, 1.0206, 233.56, 231.60, 228.84, 0.9916, 228.89\n",
      "GOOG\n",
      "date, pred, pred_price, max, close, max/pred_price, pred_price*factor\n",
      "2023-02-02, 1.0053, 108.64, 108.06, 108.06, 0.9947, 106.46\n",
      "2023-03-16, 1.0284, 103.23, 105.54, 100.38, 1.0223, 101.17\n",
      "2023-03-30, 1.0209, 102.73, 108.16, 100.63, 1.0528, 100.68\n",
      "2023-05-11, 1.0246, 118.96, 122.68, 116.11, 1.0312, 116.58\n",
      "2023-06-05, 1.0127, 127.36, 127.04, 125.77, 0.9975, 124.82\n",
      "2023-07-28, 1.0252, 135.43, 132.21, 132.11, 0.9762, 132.72\n",
      "2023-08-09, 1.0020, 129.52, 131.04, 129.27, 1.0117, 126.93\n",
      "2023-08-14, 1.0116, 132.45, 131.04, 130.93, 0.9893, 129.81\n",
      "2023-09-08, 1.0210, 139.13, 138.05, 136.27, 0.9922, 136.34\n",
      "2023-09-14, 1.0075, 139.08, 138.05, 138.05, 0.9926, 136.30\n",
      "2023-10-11, 1.0159, 142.97, 140.74, 140.74, 0.9844, 140.11\n",
      "2023-10-16, 1.0036, 140.03, 140.74, 139.54, 1.0050, 137.23\n",
      "2023-11-14, 1.0178, 136.90, 137.76, 134.51, 1.0063, 134.16\n",
      "2023-12-22, 1.0227, 144.96, 141.85, 141.75, 0.9785, 142.06\n",
      "2024-01-03, 1.0115, 141.01, 142.82, 139.41, 1.0128, 138.19\n",
      "2024-01-23, 1.0120, 149.44, 153.79, 147.67, 1.0291, 146.46\n",
      "2024-03-22, 1.0119, 152.53, 155.44, 150.74, 1.0190, 149.48\n",
      "2024-04-05, 1.0169, 155.48, 159.70, 152.89, 1.0271, 152.37\n",
      "2024-04-09, 0.9978, 156.72, 159.70, 157.07, 1.0190, 153.58\n",
      "2024-04-11, 1.0151, 162.11, 159.70, 159.70, 0.9851, 158.87\n",
      "2024-04-26, 1.0011, 172.71, 172.51, 172.51, 0.9989, 169.25\n",
      "2024-05-17, 1.0003, 176.14, 178.32, 176.08, 1.0124, 172.61\n",
      "2024-06-25, 1.0112, 186.60, 185.80, 184.53, 0.9957, 182.87\n",
      "2024-07-05, 1.0093, 192.65, 191.57, 190.87, 0.9944, 188.79\n",
      "2024-09-26, 1.0065, 164.17, 167.69, 163.12, 1.0214, 160.89\n",
      "2024-10-29, 1.0106, 172.20, 175.37, 170.39, 1.0184, 168.76\n",
      "2024-11-06, 1.0369, 184.10, 182.52, 177.55, 0.9914, 180.42\n",
      "2024-12-11, 1.0100, 198.04, 197.52, 196.08, 0.9974, 194.08\n",
      "2024-12-23, 1.0120, 197.71, 197.52, 195.36, 0.9990, 193.75\n",
      "2025-05-28, 1.0134, 175.34, 173.62, 173.02, 0.9902, 171.83\n",
      "2025-06-10, 1.0117, 181.95, 179.85, 179.85, 0.9884, 178.31\n",
      "2025-07-11, 1.0267, 185.99, 185.77, 181.15, 0.9988, 182.27\n",
      "2025-07-21, 1.0063, 192.17, 193.91, 190.98, 1.0090, 188.33\n",
      "2025-08-04, 1.0256, 200.59, 201.91, 195.58, 1.0066, 196.57\n",
      "2025-08-12, 1.0052, 205.03, 204.73, 203.98, 0.9985, 200.93\n",
      "2025-08-21, 0.9879, 198.02, 212.18, 200.44, 1.0715, 194.06\n",
      "META\n",
      "date, pred, pred_price, max, close, max/pred_price, pred_price*factor\n",
      "2023-02-13, 1.0627, 189.50, 190.45, 178.33, 1.0050, 185.71\n",
      "2023-03-14, 1.0459, 201.67, 203.67, 192.83, 1.0099, 197.64\n",
      "2023-03-30, 1.0243, 211.59, 214.78, 206.57, 1.0150, 207.36\n",
      "2023-04-06, 1.0252, 220.18, 220.13, 214.78, 0.9998, 215.78\n",
      "2023-04-13, 1.0164, 222.59, 220.13, 219.00, 0.9890, 218.14\n",
      "2023-04-27, 1.0106, 239.61, 241.69, 237.10, 1.0087, 234.82\n",
      "2023-05-11, 1.0481, 245.61, 245.34, 234.35, 0.9989, 240.70\n",
      "2023-05-15, 1.0371, 246.19, 246.80, 237.40, 1.0025, 241.27\n",
      "2023-05-24, 1.0422, 258.13, 270.94, 247.68, 1.0496, 252.96\n",
      "2023-06-28, 1.0298, 291.99, 292.57, 283.54, 1.0020, 286.15\n",
      "2023-07-12, 1.0294, 316.50, 314.07, 307.44, 0.9923, 310.17\n",
      "2023-07-17, 1.0289, 317.64, 314.07, 308.72, 0.9888, 311.29\n",
      "2023-09-14, 1.0038, 310.98, 309.81, 309.81, 0.9963, 304.76\n",
      "2023-10-11, 1.0112, 329.45, 325.81, 325.81, 0.9889, 322.87\n",
      "2023-11-14, 1.0159, 339.58, 337.89, 334.25, 0.9950, 332.78\n",
      "2023-12-21, 1.0175, 358.06, 356.12, 351.92, 0.9946, 350.90\n",
      "2024-01-08, 1.0252, 365.44, 372.20, 356.46, 1.0185, 358.13\n",
      "2024-01-22, 1.0321, 391.61, 398.56, 379.44, 1.0177, 383.78\n",
      "2024-02-02, 0.9998, 472.00, 472.08, 472.08, 1.0002, 462.56\n",
      "2024-04-05, 1.0022, 525.82, 524.67, 524.67, 0.9978, 515.30\n",
      "2024-05-15, 0.9981, 478.19, 479.10, 479.10, 1.0019, 468.63\n",
      "2024-05-17, 1.0197, 478.78, 479.10, 469.52, 1.0007, 469.20\n",
      "2024-06-10, 1.0141, 507.12, 506.26, 500.05, 0.9983, 496.98\n",
      "2024-06-20, 1.0298, 514.54, 517.44, 499.65, 1.0056, 504.25\n",
      "2024-06-25, 1.0181, 517.72, 517.44, 508.51, 0.9995, 507.36\n",
      "2024-06-27, 1.0432, 539.78, 537.70, 517.44, 0.9962, 528.98\n",
      "2024-08-13, 1.0168, 535.20, 535.14, 526.38, 0.9999, 524.50\n",
      "2024-08-23, 1.0133, 532.86, 532.97, 525.84, 1.0002, 522.21\n",
      "2024-09-19, 1.0177, 567.22, 566.53, 557.35, 0.9988, 555.88\n",
      "2024-12-06, 1.0170, 632.41, 630.70, 621.81, 0.9973, 619.76\n",
      "2025-01-29, 1.0180, 687.06, 703.23, 674.91, 1.0235, 673.32\n",
      "2025-05-07, 1.0362, 617.55, 658.41, 595.95, 1.0662, 605.20\n",
      "2025-05-27, 1.0357, 664.28, 669.93, 641.39, 1.0085, 651.00\n",
      "2025-05-30, 1.0366, 670.23, 696.70, 646.56, 1.0395, 656.83\n",
      "2025-06-05, 1.0474, 716.04, 701.39, 683.63, 0.9795, 701.72\n",
      "MSFT\n",
      "date, pred, pred_price, max, close, max/pred_price, pred_price*factor\n",
      "2023-02-07, 1.0204, 267.13, 266.31, 261.80, 0.9969, 261.79\n",
      "2023-02-13, 1.0032, 266.34, 266.31, 265.48, 0.9999, 261.01\n",
      "2023-03-16, 1.0107, 273.84, 274.10, 270.93, 1.0009, 268.37\n",
      "2023-03-21, 1.0238, 274.96, 275.22, 268.56, 1.0009, 269.46\n",
      "2023-03-24, 1.0233, 281.62, 282.80, 275.22, 1.0042, 275.99\n",
      "2023-03-29, 1.0282, 282.93, 282.80, 275.16, 0.9995, 277.27\n",
      "2023-05-05, 1.0061, 306.58, 306.35, 304.73, 0.9992, 300.45\n",
      "2023-05-10, 1.0169, 311.53, 308.68, 306.35, 0.9909, 305.30\n",
      "2023-05-12, 1.0299, 312.12, 313.13, 303.08, 1.0032, 305.88\n",
      "2023-05-19, 1.0342, 323.66, 327.25, 312.95, 1.0111, 317.19\n",
      "2023-05-26, 1.0095, 330.38, 330.25, 327.25, 0.9996, 323.77\n",
      "2023-06-01, 1.0125, 331.05, 330.25, 326.95, 0.9976, 324.43\n",
      "2023-06-14, 1.0143, 336.36, 342.21, 331.63, 1.0174, 329.64\n",
      "2023-07-17, 1.0282, 349.47, 353.40, 339.88, 1.0113, 342.48\n",
      "2023-09-08, 1.0194, 335.69, 333.67, 329.31, 0.9940, 328.98\n",
      "2023-09-14, 1.0012, 334.07, 333.67, 333.67, 0.9988, 327.39\n",
      "2023-10-16, 1.0033, 328.79, 327.70, 327.70, 0.9967, 322.22\n",
      "2023-10-25, 1.0163, 341.10, 340.93, 335.61, 0.9995, 334.27\n",
      "2023-11-07, 1.0278, 365.07, 364.77, 355.18, 0.9992, 357.77\n",
      "2024-01-11, 1.0364, 393.52, 393.55, 379.69, 1.0001, 385.65\n",
      "2024-02-02, 1.0147, 411.90, 415.15, 405.94, 1.0079, 403.66\n",
      "2024-05-20, 1.0160, 428.14, 426.54, 421.41, 0.9963, 419.58\n",
      "2024-06-20, 1.0157, 448.52, 448.67, 441.58, 1.0003, 439.55\n",
      "2024-08-23, 1.0175, 420.92, 421.63, 413.68, 1.0017, 412.51\n",
      "2024-09-23, 1.0100, 434.57, 435.42, 430.28, 1.0020, 425.88\n",
      "2024-09-26, 1.0173, 435.52, 435.42, 428.10, 0.9998, 426.81\n",
      "2024-10-25, 1.0110, 429.65, 429.31, 424.96, 0.9992, 421.06\n",
      "2024-10-29, 1.0010, 429.16, 429.31, 428.73, 1.0003, 420.58\n",
      "2024-12-06, 1.0043, 443.04, 447.10, 441.15, 1.0092, 434.18\n",
      "2025-05-01, 1.0245, 434.31, 436.65, 423.92, 1.0054, 425.62\n",
      "2025-05-27, 1.0065, 462.92, 462.21, 459.93, 0.9985, 453.66\n",
      "2025-06-11, 1.0181, 480.39, 479.45, 471.84, 0.9980, 470.78\n",
      "2025-07-07, 1.0240, 508.85, 502.68, 496.90, 0.9879, 498.67\n",
      "2025-07-09, 1.0220, 513.74, 504.99, 502.68, 0.9830, 503.46\n",
      "2025-07-25, 1.0202, 523.24, 532.62, 512.87, 1.0179, 512.78\n",
      "2025-07-30, 1.0294, 527.45, 534.76, 512.40, 1.0139, 516.90\n",
      "2025-08-04, 1.0202, 545.57, 534.76, 534.76, 0.9802, 534.66\n",
      "NVDA\n",
      "date, pred, pred_price, max, close, max/pred_price, pred_price*factor\n",
      "2022-11-23, 1.0274, 16.95, 17.12, 16.50, 1.0099, 16.61\n",
      "2022-11-30, 1.0250, 17.33, 17.12, 16.91, 0.9879, 16.98\n",
      "2023-01-18, 1.0706, 18.59, 19.30, 17.36, 1.0386, 18.22\n",
      "2023-02-07, 1.0323, 22.87, 22.95, 22.15, 1.0036, 22.41\n",
      "2023-03-21, 1.0315, 27.00, 27.17, 26.18, 1.0061, 26.46\n",
      "2023-03-29, 1.0398, 28.04, 27.94, 26.96, 0.9967, 27.47\n",
      "2023-05-18, 1.0674, 33.79, 37.95, 31.65, 1.1232, 33.11\n",
      "2023-05-25, 1.0472, 39.74, 40.08, 37.95, 1.0085, 38.95\n",
      "2023-06-09, 1.0725, 41.55, 42.97, 38.74, 1.0341, 40.72\n",
      "2023-06-21, 1.0481, 45.08, 43.78, 43.02, 0.9710, 44.18\n",
      "2023-07-17, 1.0661, 49.50, 47.46, 46.43, 0.9589, 48.51\n",
      "2023-08-30, 1.0493, 51.66, 49.32, 49.23, 0.9548, 50.63\n",
      "2023-10-11, 1.0288, 48.13, 46.92, 46.78, 0.9749, 47.16\n",
      "2023-11-09, 1.0313, 48.39, 49.63, 46.92, 1.0255, 47.42\n",
      "2023-11-14, 1.0378, 51.50, 50.38, 49.63, 0.9782, 50.47\n",
      "2024-01-11, 1.0375, 56.85, 59.46, 54.79, 1.0460, 55.71\n",
      "2024-02-22, 1.0148, 79.66, 79.07, 78.50, 0.9926, 78.07\n",
      "2024-02-27, 1.0698, 84.15, 85.92, 78.66, 1.0210, 82.47\n",
      "2024-03-04, 1.0602, 90.32, 92.63, 85.19, 1.0256, 88.51\n",
      "2024-03-11, 1.0789, 92.50, 92.63, 85.74, 1.0014, 90.65\n",
      "2024-05-14, 1.0282, 93.89, 95.34, 91.31, 1.0155, 92.01\n",
      "2024-05-21, 1.1279, 107.53, 114.77, 95.34, 1.0673, 105.38\n",
      "2024-08-23, 1.0147, 131.23, 129.95, 129.32, 0.9903, 128.60\n",
      "2024-09-25, 1.0049, 124.08, 124.00, 123.47, 0.9994, 121.60\n",
      "2024-10-08, 1.0413, 138.34, 138.03, 132.85, 0.9977, 135.58\n",
      "2024-10-17, 1.0645, 145.72, 143.67, 136.89, 0.9859, 142.80\n",
      "2025-02-19, 1.0170, 141.57, 140.08, 139.20, 0.9895, 138.74\n",
      "2025-05-08, 1.0898, 127.90, 135.32, 117.36, 1.0581, 125.34\n",
      "2025-06-25, 1.0705, 165.17, 157.98, 154.30, 0.9565, 161.87\n",
      "2025-07-02, 1.0499, 165.08, 164.09, 157.24, 0.9940, 161.78\n",
      "2025-08-11, 1.0270, 186.97, 183.15, 182.05, 0.9796, 183.23\n",
      "TSLA\n",
      "date, pred, pred_price, max, close, max/pred_price, pred_price*factor\n",
      "2023-05-26, 1.1288, 218.06, 217.61, 193.17, 0.9979, 213.70\n",
      "2023-07-17, 1.0104, 293.39, 293.34, 290.38, 0.9998, 287.52\n",
      "2023-09-11, 1.0131, 277.16, 276.04, 273.58, 0.9959, 271.62\n",
      "2023-09-14, 0.9960, 274.94, 276.04, 276.04, 1.0040, 269.45\n",
      "2023-11-15, 1.0009, 243.06, 242.84, 242.84, 0.9991, 238.20\n",
      "2023-11-17, 1.0354, 242.60, 242.84, 234.30, 1.0010, 237.75\n",
      "2024-07-01, 1.2412, 260.48, 262.33, 209.86, 1.0071, 255.27\n",
      "2024-09-19, 1.0643, 259.60, 257.02, 243.92, 0.9901, 254.41\n",
      "2024-09-23, 1.0453, 261.34, 261.63, 250.00, 1.0011, 256.11\n",
      "2024-09-26, 1.0215, 259.68, 261.63, 254.22, 1.0075, 254.48\n",
      "2024-11-06, 1.1911, 343.66, 350.00, 288.53, 1.0184, 336.79\n",
      "2024-11-18, 1.0407, 352.52, 352.56, 338.74, 1.0001, 345.47\n",
      "2024-12-05, 1.1416, 421.80, 424.77, 369.49, 1.0070, 413.37\n",
      "2024-12-24, 1.0330, 477.51, 479.86, 462.28, 1.0049, 467.96\n",
      "2025-04-29, 0.9893, 288.90, 292.03, 292.03, 1.0108, 283.12\n",
      "2025-05-09, 1.0288, 306.86, 349.98, 298.26, 1.1405, 300.73\n",
      "2025-08-13, 0.9431, 320.08, 340.84, 339.38, 1.0649, 313.67\n",
      "2025-08-25, 1.1241, 389.62, 351.67, 346.60, 0.9026, 381.83\n"
     ]
    }
   ],
   "source": [
    "for s in SYMBOLS:\n",
    "    models[s] = SimpleNet(NUM_BASIC_INPUTS + NUM_MAX_LOOK_BACK + NUM_RSI)\n",
    "    # extracted_data[s] = extract_RSI70_data(dfs[s], printout=False)\n",
    "    inputs, outputs = convert_data_to_inputs_outputs_with_max_look_back(extracted_data[s], NUM_MAX_LOOK_BACK, NUM_RSI)\n",
    "    train_model(models[s], inputs[:-NUM_RESERVE_TEST], outputs[:-NUM_RESERVE_TEST], loss_function=AsymmetricMSELoss(alpha=2.0), printout=False)   # train without last NUM_RESERVE_TEST data\n",
    "    predictions = evaluate_model(models[s], inputs)   # evaluate all except first few which do not have enough max_look_back\n",
    "    for i in range(len(predictions)):\n",
    "        extracted_data[s][NUM_MAX_LOOK_BACK+i]['Predict2'] = predictions[i].item() * extracted_data[s][NUM_MAX_LOOK_BACK+i]['Close'] * PREDICT_FACTOR\n",
    "    print(s)\n",
    "    verify_predicts(extracted_data[s][NUM_MAX_LOOK_BACK:], predictions, PREDICT_FACTOR, format='cvs')\n"
   ]
  },
  {
   "cell_type": "markdown",
   "id": "fa800592",
   "metadata": {},
   "source": [
    "##### 3. Baseline\n",
    "When RSI $\\ge$ 70, use the Close Price as the selling price for the next few trading dates."
   ]
  },
  {
   "cell_type": "markdown",
   "id": "c0e6645d",
   "metadata": {},
   "source": [
    "#### simulate investment and calculate the return\n",
    "Assume gain from recent average price to selling price if predicted price is lower than near future maximum price."
   ]
  },
  {
   "cell_type": "code",
   "execution_count": 22,
   "id": "e4fae60f",
   "metadata": {},
   "outputs": [],
   "source": [
    "def simulate_investment(data, amount=1000):\n",
    "    amount_wild = amount\n",
    "    amount_model = amount\n",
    "    amount_baseline = amount\n",
    "    amount_ideal = amount\n",
    "    for i, d in enumerate(data):\n",
    "        if d['Predict1'] <= d['Max']:\n",
    "            amount_wild = d['Predict1'] / d['Average'] * amount_wild\n",
    "        if d['Predict2'] <= d['Max']:\n",
    "            amount_model = d['Predict2'] / d['Average'] * amount_model\n",
    "        if d['Close'] <= d['Max']:\n",
    "            amount_baseline = d['Close'] / d['Average'] * amount_baseline\n",
    "        amount_ideal = d['Max'] / d['Average'] * amount_ideal\n",
    "    return amount_wild, amount_model, amount_baseline, amount_ideal"
   ]
  },
  {
   "cell_type": "code",
   "execution_count": 23,
   "id": "e55d7d17",
   "metadata": {},
   "outputs": [
    {
     "name": "stdout",
     "output_type": "stream",
     "text": [
      "AAPL: wild=1193.48, model=1203.80, baseline=1284.49, ideal=1371.16, baseline > model > wild\n",
      "AMZN: wild=1019.42, model=1120.00, baseline=1198.14, ideal=1230.43, baseline > model > wild\n",
      "GOOG: wild=1197.68, model=1177.86, baseline=1238.37, ideal=1414.37, baseline > wild > model\n",
      "META: wild=1398.81, model=1374.65, baseline=1407.76, ideal=1871.31, baseline > wild > model\n",
      "MSFT: wild=1094.50, model=1182.49, baseline=1166.64, ideal=1285.04, model > baseline > wild\n",
      "NVDA: wild=1203.79, model=1341.68, baseline=1391.04, ideal=1735.07, baseline > model > wild\n",
      "TSLA: wild=1167.26, model=1429.36, baseline=1663.70, ideal=2064.93, baseline > model > wild\n"
     ]
    }
   ],
   "source": [
    "for s in SYMBOLS:\n",
    "    amount = {}\n",
    "    amount['wild'], amount['model'], amount['baseline'], amount_ideal = simulate_investment(extracted_data[s][-NUM_RESERVE_TEST:])\n",
    "    sorted_methods = sorted(amount, key=lambda x: amount[x], reverse=True)\n",
    "    print(f'{s}: wild={amount['wild']:.2f}, model={amount['model']:.2f}, baseline={amount['baseline']:.2f}, ideal={amount_ideal:.2f}', end='')\n",
    "    print(f', {sorted_methods[0]} > {sorted_methods[1]} > {sorted_methods[2]}')"
   ]
  },
  {
   "cell_type": "markdown",
   "id": "fb845c4c",
   "metadata": {},
   "source": [
    "Observation\n",
    "1. This simulation favors approach which can make more transactions. Therefore, baseline is the best in most cases while wild guess method and neural network draw.\n",
    "2. For Amazon, baseline performance is quite close to the ideal."
   ]
  },
  {
   "cell_type": "code",
   "execution_count": 24,
   "id": "2e899757",
   "metadata": {},
   "outputs": [
    {
     "data": {
      "text/plain": [
       "'2.3.2'"
      ]
     },
     "execution_count": 24,
     "metadata": {},
     "output_type": "execute_result"
    }
   ],
   "source": [
    "pd.__version__"
   ]
  },
  {
   "cell_type": "code",
   "execution_count": 25,
   "id": "5b3cc0ec",
   "metadata": {},
   "outputs": [
    {
     "data": {
      "text/plain": [
       "'0.2.65'"
      ]
     },
     "execution_count": 25,
     "metadata": {},
     "output_type": "execute_result"
    }
   ],
   "source": [
    "yf.__version__"
   ]
  },
  {
   "cell_type": "code",
   "execution_count": 26,
   "id": "2dfe78da",
   "metadata": {},
   "outputs": [
    {
     "data": {
      "text/plain": [
       "'6.3.0'"
      ]
     },
     "execution_count": 26,
     "metadata": {},
     "output_type": "execute_result"
    }
   ],
   "source": [
    "import plotly\n",
    "plotly.__version__"
   ]
  },
  {
   "cell_type": "code",
   "execution_count": 27,
   "id": "d9b05d84",
   "metadata": {},
   "outputs": [
    {
     "data": {
      "text/plain": [
       "'5.10.4'"
      ]
     },
     "execution_count": 27,
     "metadata": {},
     "output_type": "execute_result"
    }
   ],
   "source": [
    "import nbformat\n",
    "nbformat.__version__"
   ]
  },
  {
   "cell_type": "code",
   "execution_count": 28,
   "id": "7a3ddafd",
   "metadata": {},
   "outputs": [
    {
     "data": {
      "text/plain": [
       "'2.8.0'"
      ]
     },
     "execution_count": 28,
     "metadata": {},
     "output_type": "execute_result"
    }
   ],
   "source": [
    "import torch\n",
    "torch.__version__"
   ]
  }
 ],
 "metadata": {
  "kernelspec": {
   "display_name": "pytorch2_8_env",
   "language": "python",
   "name": "python3"
  },
  "language_info": {
   "codemirror_mode": {
    "name": "ipython",
    "version": 3
   },
   "file_extension": ".py",
   "mimetype": "text/x-python",
   "name": "python",
   "nbconvert_exporter": "python",
   "pygments_lexer": "ipython3",
   "version": "3.13.5"
  }
 },
 "nbformat": 4,
 "nbformat_minor": 5
}
